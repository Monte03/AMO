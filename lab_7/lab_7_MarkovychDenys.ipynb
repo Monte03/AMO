{
 "cells": [
  {
   "cell_type": "markdown",
   "id": "52a426ec",
   "metadata": {},
   "source": [
    "<div style=\"text-align:center; font-weight:bold; font-size:28px;\">Лабораторна робота №7</div>"
   ]
  },
  {
   "cell_type": "markdown",
   "id": "034c6675",
   "metadata": {},
   "source": [
    "**<span style=\"font-size:1.5em;\">Мета:</span>** *<span style=\"font-size:1.2em;\">Навичтись реалізовувати алгоритм побудови дерева оптимальних кодів Гафмена на основі черги з пріоритетом (за допомогою купи) засобами Python.</span>*"
   ]
  },
  {
   "cell_type": "markdown",
   "id": "2d66eb5e",
   "metadata": {},
   "source": [
    "<img src=\"Images7/It's_me.png\" width=\"300\" height=\"200\" style=\"float: left; margin-right: 10px;\">"
   ]
  },
  {
   "cell_type": "markdown",
   "id": "1cc97948",
   "metadata": {},
   "source": [
    "<div style=\"font-size:20px;\">Виконав: Маркович Денис\n",
    "група КІ-22-1</div>"
   ]
  },
  {
   "cell_type": "markdown",
   "id": "d9bdd1d9",
   "metadata": {},
   "source": [
    "<div style=\"font-size:16px;\">\n",
    "    <span style=\"font-weight:bold;\">Умова:</span> Побудувати дерево кодів Гафмена згідно з варіантом, виданим викладачем вручну і візуалізувати дерево.\n",
    "</div>"
   ]
  },
  {
   "cell_type": "code",
   "execution_count": 7,
   "id": "da07cf62",
   "metadata": {},
   "outputs": [
    {
     "name": "stdout",
     "output_type": "stream",
     "text": [
      "f -> 0\n",
      "c -> 100\n",
      "d -> 101\n",
      "a -> 1100\n",
      "b -> 1101\n",
      "e -> 111\n"
     ]
    }
   ],
   "source": [
    "# A Вузол дерева Гафмана \n",
    "import heapq \n",
    "\n",
    "class node: \n",
    "    def __init__(self, freq, symbol, left=None, right=None): \n",
    "        self.freq = freq # частота символу \n",
    "        self.symbol = symbol # назва символу (символ) \n",
    "        self.left = left # вузол ліворуч від поточного вузла \n",
    "        self.right = right # вузол праворуч від поточного вузла \n",
    "        self.huff = '' # напрямок дерева (0/1) \n",
    "\n",
    "    def __lt__(self, nxt): \n",
    "        return self.freq < nxt.freq \n",
    "\n",
    "def printNodes(node, val=''): \n",
    "\n",
    "    newVal = val + str(node.huff) # Код Гафмена для поточного вузла  \n",
    "\n",
    "# якщо вершина не є реберною вершиною \n",
    "# то пройти всередині неї \n",
    "    if(node.left): \n",
    "        printNodes(node.left, newVal) \n",
    "    if(node.right): \n",
    "        printNodes(node.right, newVal) \n",
    "\n",
    "        # якщо node є реберною вершиною тоді \n",
    "        # вивести його хаффманівський код \n",
    "    if(not node.left and not node.right): \n",
    "        print(f\"{node.symbol} -> {newVal}\") \n",
    "\n",
    "\n",
    "# символи для дерева Гафмена \n",
    "chars = ['a', 'b', 'c', 'd', 'e', 'f'] \n",
    "freq = [5, 9, 12, 13, 16, 45] \n",
    "nodes = [] # список, що містить невикористані вершини\n",
    "\n",
    "for x in range(len(chars)): \n",
    "    heapq.heappush(nodes, node(freq[x], chars[x])) \n",
    "\n",
    "while len(nodes) > 1: \n",
    "    left = heapq.heappop(nodes) \n",
    "    right = heapq.heappop(nodes) \n",
    "\n",
    "    left.huff = 0\n",
    "    right.huff = 1\n",
    "    \n",
    "    newNode = node(left.freq+right.freq, left.symbol+right.symbol, left, right) \n",
    "\n",
    "    heapq.heappush(nodes, newNode) \n",
    "\n",
    "printNodes(nodes[0]) "
   ]
  },
  {
   "cell_type": "markdown",
   "id": "045ec746",
   "metadata": {},
   "source": [
    "<div style=\"font-size:16px;\">\n",
    "    <span style=\"font-weight:bold;\">Умова:</span> Написати процедуру на Python, яка для вхідного повідомлення обчислює список символів  chars та список їх частот freq.\n",
    "</div>"
   ]
  },
  {
   "cell_type": "code",
   "execution_count": 8,
   "id": "61da3ade",
   "metadata": {},
   "outputs": [
    {
     "name": "stdout",
     "output_type": "stream",
     "text": [
      "Символи: ['H', 'e', 'l', 'o', ',', ' ', 'W', 'r', 'd', '!']\n",
      "Частоти: [1, 1, 3, 2, 1, 1, 1, 1, 1, 1]\n"
     ]
    }
   ],
   "source": [
    "def calculate_char_freq(message):\n",
    "    # Створення порожніх списків для символів та їхніх частот\n",
    "    chars = []\n",
    "    freq = []\n",
    "\n",
    "    # Створення словника для зберігання частот символів\n",
    "    char_frequency = {}\n",
    "\n",
    "    # Підрахунок частот символів у повідомленні\n",
    "    for char in message:\n",
    "        if char in char_frequency:\n",
    "            char_frequency[char] += 1\n",
    "        else:\n",
    "            char_frequency[char] = 1\n",
    "\n",
    "    # Заповнення списків символів та їхніх частот\n",
    "    for char, frequency in char_frequency.items():\n",
    "        chars.append(char)\n",
    "        freq.append(frequency)\n",
    "\n",
    "    return chars, freq\n",
    "\n",
    "# Приклад використання:\n",
    "input_message = \"Hello, World!\"\n",
    "characters, frequencies = calculate_char_freq(input_message)\n",
    "\n",
    "# Виведення результатів\n",
    "print(\"Символи:\", characters)\n",
    "print(\"Частоти:\", frequencies)\n"
   ]
  },
  {
   "cell_type": "markdown",
   "id": "a2b80469",
   "metadata": {},
   "source": [
    "<div style=\"font-size:16px;\">\n",
    "    <span style=\"font-weight:bold;\">Умова:</span> Опрацювати самостійно тему декодування Гафмена і скориставшись наведеним там кодом, декодувати повідомлення, задане варіантом.\n",
    "</div>"
   ]
  },
  {
   "cell_type": "code",
   "execution_count": 1,
   "id": "e30af4dd",
   "metadata": {},
   "outputs": [
    {
     "name": "stdout",
     "output_type": "stream",
     "text": [
      "Розшифровані дані:\n",
      "0011000100100110101110000101101101111111000001011101\n"
     ]
    }
   ],
   "source": [
    "import heapq\n",
    "from collections import defaultdict\n",
    "\n",
    "codes = {}\n",
    "freq = defaultdict(int)\n",
    "\n",
    "class MinHeapNode:\n",
    "    def __init__(self, data, freq):\n",
    "        self.left = None\n",
    "        self.right = None\n",
    "        self.data = data\n",
    "        self.freq = freq\n",
    "\n",
    "    def __lt__(self, other):\n",
    "        return self.freq < other.freq\n",
    "\n",
    "def printCodes(root, str):\n",
    "    if root is None:\n",
    "        return\n",
    "    if root.data != '$':\n",
    "        print(root.data, \":\", str)\n",
    "    printCodes(root.left, str + \"0\")\n",
    "    printCodes(root.right, str + \"1\")\n",
    "\n",
    "def storeCodes(root, str):\n",
    "    if root is None:\n",
    "        return\n",
    "    if root.data != '$':\n",
    "        codes[root.data] = str\n",
    "    storeCodes(root.left, str + \"0\")\n",
    "    storeCodes(root.right, str + \"1\")\n",
    "\n",
    "def HuffmanCodes(size):\n",
    "    minHeap = []\n",
    "    for key in freq:\n",
    "        minHeap.append(MinHeapNode(key, freq[key]))\n",
    "    heapq.heapify(minHeap)\n",
    "    while len(minHeap) != 1:\n",
    "        left = heapq.heappop(minHeap)\n",
    "        right = heapq.heappop(minHeap)\n",
    "        top = MinHeapNode('$', left.freq + right.freq)\n",
    "        top.left = left\n",
    "        top.right = right\n",
    "        heapq.heappush(minHeap, top)\n",
    "    storeCodes(minHeap[0], \"\")\n",
    "    return minHeap[0]\n",
    "\n",
    "def calcFreq(str, n):\n",
    "    for i in range(n):\n",
    "        freq[str[i]] += 1\n",
    "\n",
    "def decode_file(root, s):\n",
    "    ans = \"\"\n",
    "    curr = root\n",
    "    n = len(s)\n",
    "    for i in range(n):\n",
    "        if s[i] == '0':\n",
    "            curr = curr.left\n",
    "        else:\n",
    "            curr = curr.right\n",
    "\n",
    "        if curr.left is None and curr.right is None:\n",
    "            ans += curr.data\n",
    "            curr = root\n",
    "    return ans\n",
    "\n",
    "if __name__ == \"__main__\":\n",
    "    str_encoded = \"0011000100100110101110000101101101111111000001011101\"\n",
    "    calcFreq(str_encoded, len(str_encoded))\n",
    "    root = HuffmanCodes(len(str_encoded))\n",
    "    decoded_string = decode_file(root, str_encoded)\n",
    "    print(\"Розшифровані дані:\")\n",
    "    print(decoded_string)"
   ]
  },
  {
   "cell_type": "markdown",
   "id": "2c5256e4",
   "metadata": {},
   "source": [
    "<div style=\"font-weight:bold; font-size:18px;\">Відповідь на Контрольні запитання</div>"
   ]
  },
  {
   "cell_type": "markdown",
   "id": "b1c1b1d5",
   "metadata": {},
   "source": [
    "<div style=\"font-size:16px;\">\n",
    "    <b>1. Що таке жадібні алгоритми?</b><br/>\n",
    "    Жадібні алгоритми - це стратегії розв'язання оптимізаційних задач, де на кожному кроці вибирається локально оптимальне рішення, сподіваючись досягти глобальної оптимальності.\n",
    "</div>"
   ]
  },
  {
   "cell_type": "markdown",
   "id": "b505ecec",
   "metadata": {},
   "source": [
    "<div style=\"font-size:16px;\">\n",
    "    <b>2. Що таке префіксний код? Який год використовується у коді Гафмена?</b><br/>\n",
    "    Префіксний код - це система кодування, де жодне кодоване слово не є префіксом іншого. Код Гафмена використовує префіксні коди, де частіше зустрічаються символи мають коротші коди, щоб забезпечити ефективне стиснення даних.\n",
    "</div>"
   ]
  },
  {
   "cell_type": "markdown",
   "id": "8940abbc",
   "metadata": {},
   "source": [
    "<div style=\"font-size:16px;\">\n",
    "    <b>3. Як пов'язана структура даних \"купа\" зі структурою даних \"черга з пріоритетами\"?</b><br/>\n",
    "    Структура даних \"купа\" є конкретною реалізацією абстрактної структури даних \"черга з пріоритетами\". У купі кожен елемент має пріоритет, і головна особливість полягає в тому, що елементи впорядковані так, що елемент з найвищим пріоритетом завжди знаходиться на вершині купи. Це дозволяє швидко видаляти та отримувати елементи з найвищим пріоритетом, що дуже важливо для задач, де важливий порядок обробки елементів за їх важливістю або часовою критичністю, наприклад, у плануванні завдань або обробці подій.\n",
    "</div>"
   ]
  }
 ],
 "metadata": {
  "kernelspec": {
   "display_name": "Python 3 (ipykernel)",
   "language": "python",
   "name": "python3"
  },
  "language_info": {
   "codemirror_mode": {
    "name": "ipython",
    "version": 3
   },
   "file_extension": ".py",
   "mimetype": "text/x-python",
   "name": "python",
   "nbconvert_exporter": "python",
   "pygments_lexer": "ipython3",
   "version": "3.11.5"
  }
 },
 "nbformat": 4,
 "nbformat_minor": 5
}
