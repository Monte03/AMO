{
 "cells": [
  {
   "cell_type": "markdown",
   "id": "a9801f2d",
   "metadata": {},
   "source": [
    "<div style=\"text-align:center; font-weight:bold; font-size:28px;\">Лабораторна робота №1</div>"
   ]
  },
  {
   "cell_type": "markdown",
   "id": "df20a15a",
   "metadata": {},
   "source": [
    "**<span style=\"font-size:1.5em;\">Мета:</span>** *<span style=\"font-size:1.2em;\">quick start для роботи в середовищі Anaconda із застосуванням Jupyter Notebook або Jupyter Lab засобами мови програмування Python.</span>*\n"
   ]
  },
  {
   "cell_type": "markdown",
   "id": "38982a06",
   "metadata": {},
   "source": [
    "<img src=\"Images/It's_me.png\" width=\"300\" height=\"200\" style=\"float: left; margin-right: 10px;\">"
   ]
  },
  {
   "cell_type": "markdown",
   "id": "70f1c882",
   "metadata": {},
   "source": [
    "<div style=\"font-size:20px;\">Виконав: Маркович Денис\n",
    "група КІ-22-1</div>"
   ]
  },
  {
   "cell_type": "markdown",
   "id": "6798e649",
   "metadata": {},
   "source": [
    "<div style=\"font-size:16px;\">1. Збірку завантажив і встановив.</div>"
   ]
  },
  {
   "cell_type": "markdown",
   "id": "642d1e90",
   "metadata": {},
   "source": [
    "<div style=\"font-size:16px;\">2. Налаштування віртуального середовища за допомогою conda:</div>"
   ]
  },
  {
   "cell_type": "markdown",
   "id": "5985fd37",
   "metadata": {},
   "source": [
    "<img src=\"Images/lb1_Envir.png\" width=\"600\" height=\"400\" style=\"float: left; margin-right: 10px;\">\n"
   ]
  },
  {
   "cell_type": "markdown",
   "id": "5a419a42",
   "metadata": {},
   "source": [
    "<img src=\"Images/lb1_conda.png\" width=\"600\" height=\"400\" style=\"float: left; margin-right: 10px;\">\n"
   ]
  },
  {
   "cell_type": "markdown",
   "id": "8b44cb4f",
   "metadata": {},
   "source": [
    "<div style=\"font-size:16px;\">3. Інсталяція файлів для роботи з OpenCV.</div>"
   ]
  },
  {
   "cell_type": "markdown",
   "id": "52029958",
   "metadata": {},
   "source": [
    "<img src=\"Images/lb1_OpenCV(1).png\" width=\"600\" height=\"400\" style=\"float: left; margin-right: 10px;\">\n"
   ]
  },
  {
   "cell_type": "markdown",
   "id": "95988f8a",
   "metadata": {},
   "source": [
    "<img src=\"Images/lb1_OpenCV(2).png\" width=\"600\" height=\"400\" style=\"float: left; margin-right: 10px;\">\n"
   ]
  },
  {
   "cell_type": "markdown",
   "id": "69d10bd9",
   "metadata": {},
   "source": [
    "<div style=\"font-weight:bold; font-size:18px;\">Відповідь на Контрольні запитання</div>"
   ]
  },
  {
   "cell_type": "markdown",
   "id": "0396d2df",
   "metadata": {},
   "source": [
    "<div style=\"font-size:16px;\">1. pip і conda - це інструменти для управління пакетами в мові програмування Python. Різниця між ними - це pip   спеціалізується на Python-пакетах з PyPI, тоді як conda є більш універсальним і може працювати з пакетами різних мов програмування.</div>"
   ]
  },
  {
   "cell_type": "markdown",
   "id": "839e5d22",
   "metadata": {},
   "source": [
    "<div style=\"font-size:16px;\">2. Спочатку встановлення середодвища командою: pip install virtualenv, потім створення середовища virtualenv DenysMarkovych_OpenCV, потім активація середовища .\\DenysMarkovych_OpenCV\\Scripts\\activate, після встановлення та активації середовища докачуємо всі необхідні пакети і все, готово.</div>"
   ]
  },
  {
   "cell_type": "markdown",
   "id": "18f96ccd",
   "metadata": {},
   "source": [
    "<div style=\"font-size:16px;\">3. Виконав і завантажив.</div>"
   ]
  },
  {
   "cell_type": "markdown",
   "id": "c915fa55",
   "metadata": {},
   "source": [
    "<div style=\"font-size:16px;\">4. Метод бульбашки працює шляхом послідовного порівняння та обміну сусідніх елементів, поки весь масив не буде відсортований.</div>"
   ]
  },
  {
   "cell_type": "code",
   "execution_count": 1,
   "id": "d4376887",
   "metadata": {},
   "outputs": [
    {
     "name": "stdout",
     "output_type": "stream",
     "text": [
      "Відсортований масив: [11, 12, 22, 25, 34, 64, 90]\n"
     ]
    }
   ],
   "source": [
    "def bubble_sort(my_list):\n",
    "    pos = len(my_list)\n",
    "\n",
    "    for a in range(pos - 1):\n",
    "        for b in range(0, pos - a - 1):\n",
    "            if my_list[b] > my_list[b + 1]:\n",
    "                my_list[b], my_list[b + 1] = my_list[b + 1], my_list[b]\n",
    "\n",
    "new_my_list = [64, 34, 25, 12, 22, 11, 90]\n",
    "bubble_sort(new_my_list)\n",
    "\n",
    "print(\"Відсортований масив:\", new_my_list)"
   ]
  },
  {
   "cell_type": "markdown",
   "id": "6b85530f",
   "metadata": {},
   "source": [
    "<div style=\"font-size:16px;\">5. Компіляцію ми можемо виконати за допомогою командного рядка з використанням, як приклад HTML коду.</div>"
   ]
  }
 ],
 "metadata": {
  "kernelspec": {
   "display_name": "Python 3 (ipykernel)",
   "language": "python",
   "name": "python3"
  },
  "language_info": {
   "codemirror_mode": {
    "name": "ipython",
    "version": 3
   },
   "file_extension": ".py",
   "mimetype": "text/x-python",
   "name": "python",
   "nbconvert_exporter": "python",
   "pygments_lexer": "ipython3",
   "version": "3.11.5"
  }
 },
 "nbformat": 4,
 "nbformat_minor": 5
}
