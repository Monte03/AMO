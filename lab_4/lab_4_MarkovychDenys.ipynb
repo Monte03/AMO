{
 "cells": [
  {
   "cell_type": "markdown",
   "id": "119a65aa",
   "metadata": {},
   "source": [
    "<div style=\"text-align:center; font-weight:bold; font-size:28px;\">Лабораторна робота №4</div>"
   ]
  },
  {
   "cell_type": "markdown",
   "id": "8eed2bba",
   "metadata": {},
   "source": [
    "**<span style=\"font-size:1.5em;\">Мета:</span>** *<span style=\"font-size:1.2em;\">Засвоїти варіанти реалізації алгоритмів пошуку засобами Python і методи оцінки їх складності.</span>*"
   ]
  },
  {
   "cell_type": "markdown",
   "id": "f2c17c7b",
   "metadata": {},
   "source": [
    "<img src=\"Images4/It's_me.png\" width=\"300\" height=\"200\" style=\"float: left; margin-right: 10px;\">"
   ]
  },
  {
   "cell_type": "markdown",
   "id": "429877dd",
   "metadata": {},
   "source": [
    "<div style=\"font-size:20px;\">Виконав: Маркович Денис\n",
    "група КІ-22-1</div>"
   ]
  },
  {
   "cell_type": "markdown",
   "id": "6a5b953b",
   "metadata": {},
   "source": [
    "**<div style=\"font-size:16px;\">Реалізація лінійного пошуку на Python</div>**"
   ]
  },
  {
   "cell_type": "code",
   "execution_count": 2,
   "id": "8ab8cd67",
   "metadata": {},
   "outputs": [],
   "source": [
    "# Якщо елемент не буде знайдено, виводиться -1\n",
    "def linear_search(a_list, x):\n",
    "    i, length = 0, len(a_list)\n",
    "    while i < length and x != a_list[i]:\n",
    "        i += 1\n",
    "    return i if i < length else -1"
   ]
  },
  {
   "cell_type": "code",
   "execution_count": 3,
   "id": "22faf84b",
   "metadata": {},
   "outputs": [
    {
     "name": "stdout",
     "output_type": "stream",
     "text": [
      "Введіть шуканий елемент: 13\n"
     ]
    }
   ],
   "source": [
    "search_item = int(input(\"Введіть шуканий елемент: \"))"
   ]
  },
  {
   "cell_type": "code",
   "execution_count": 4,
   "id": "aef76644",
   "metadata": {},
   "outputs": [
    {
     "data": {
      "text/plain": [
       "4"
      ]
     },
     "execution_count": 4,
     "metadata": {},
     "output_type": "execute_result"
    }
   ],
   "source": [
    "a = [32, 1, 3, 4, 13, 2, 1]\n",
    "linear_search(a, search_item)"
   ]
  },
  {
   "cell_type": "markdown",
   "id": "892d7f51",
   "metadata": {},
   "source": [
    "**<div style=\"font-size:16px;\">Оцінка асимптотичної складністі алгоритму лінійного пошуку у  О -нотації.</div>**\n",
    "<div style=\"font-size:16px;\">\n",
    "    Алгоритм лінійного пошуку, який перевіряє кожен елемент у списку, має часову складність O(n), де \"n\" - кількість елементів у вхідному списку. Це означає, що час виконання зростає лінійно з розміром вхідних даних. У найгіршому випадку, коли елемент знаходиться в кінці списку або відсутній, алгоритм пройде через всі елементи.\n",
    "</div>"
   ]
  },
  {
   "cell_type": "markdown",
   "id": "a8c27654",
   "metadata": {},
   "source": [
    "**<div style=\"font-size:16px;\">Оцінка асимптотичної складністі алгоритму бінарного пошуку пошуку у  О -нотації.</div>**\n",
    "<div style=\"font-size:16px;\">\n",
    "    Асимптотична складність бінарного пошуку в O-нотації становить O(log n), де n - розмір вхідного відсортованого масиву чи списку. Це означає, що час виконання алгоритму зростає логарифмічно з розміром вхідних даних, роблячи його ефективним для швидкого пошуку у великих наборах даних.\n",
    "</div>"
   ]
  },
  {
   "cell_type": "markdown",
   "id": "08298a8f",
   "metadata": {},
   "source": [
    "<div style=\"font-size:16px;\">\n",
    "    <span style=\"font-weight:bold;\">Умова:</span> написати функцію, яка б могла повертати датафрейм з наступним складом полів: (\"n\", \"time\"), де n -- розмір масиву для функції linear_search();\n",
    "</div>"
   ]
  },
  {
   "cell_type": "code",
   "execution_count": 5,
   "id": "873cf0a1",
   "metadata": {},
   "outputs": [
    {
     "name": "stdout",
     "output_type": "stream",
     "text": [
      "        n          time\n",
      "0       1  9.536743e-07\n",
      "1       2  9.536743e-07\n",
      "2       3  0.000000e+00\n",
      "3       4  0.000000e+00\n",
      "4       5  9.536743e-07\n",
      "..    ...           ...\n",
      "995   996  2.574921e-05\n",
      "996   997  2.121925e-05\n",
      "997   998  2.098083e-05\n",
      "998   999  2.098083e-05\n",
      "999  1000  2.884865e-05\n",
      "\n",
      "[1000 rows x 2 columns]\n"
     ]
    }
   ],
   "source": [
    "import pandas as pd\n",
    "import time\n",
    "\n",
    "def linear_search(a_list, x):\n",
    "    i, length = 0, len(a_list)\n",
    "    while i < length and x != a_list[i]:\n",
    "        i += 1\n",
    "    return i if i < length else -1\n",
    "\n",
    "def measure_linear_search_time(n):\n",
    "    a_list = list(range(n))\n",
    "    start_time = time.time()\n",
    "    linear_search(a_list, n + 1)\n",
    "    end_time = time.time()\n",
    "    return end_time - start_time\n",
    "\n",
    "def generate_dataframe(max_n):\n",
    "    data = {\"n\": [], \"time\": []}\n",
    "    for n in range(1, max_n + 1):\n",
    "        execution_time = measure_linear_search_time(n)\n",
    "        data[\"n\"].append(n)\n",
    "        data[\"time\"].append(execution_time)\n",
    "\n",
    "    df = pd.DataFrame(data)\n",
    "    return df\n",
    "\n",
    "max_n_value = 1000\n",
    "result_dataframe = generate_dataframe(max_n_value)\n",
    "print(result_dataframe)"
   ]
  },
  {
   "cell_type": "markdown",
   "id": "c82ae04e",
   "metadata": {},
   "source": [
    "<div style=\"font-size:16px;\">\n",
    "    <span style=\"font-weight:bold;\">Умова:</span> написати функцію, яка б могла повертати датафрейм з наступним складом полів: (\"n\", \"time\"), де n -- розмір масиву для функції `bin_searh();\n",
    "</div>"
   ]
  },
  {
   "cell_type": "code",
   "execution_count": 6,
   "id": "47aab9fa",
   "metadata": {},
   "outputs": [
    {
     "name": "stdout",
     "output_type": "stream",
     "text": [
      "       n      time\n",
      "0     10  0.000004\n",
      "1    100  0.000006\n",
      "2   1000  0.000005\n",
      "3  10000  0.000008\n"
     ]
    }
   ],
   "source": [
    "import pandas as pd\n",
    "import time\n",
    "\n",
    "def bin_search(a_list, x, left, right):\n",
    "    if left > right or len(a_list) == 0:\n",
    "        return -1\n",
    "    middle = (left + right) // 2\n",
    "    if a_list[middle] == x:\n",
    "        return middle\n",
    "    elif a_list[middle] < x:\n",
    "        return bin_search(a_list, x, middle + 1, right)\n",
    "    else:\n",
    "        return bin_search(a_list, x, left, middle - 1)\n",
    "\n",
    "def measure_bin_search_time(n):\n",
    "    a_list = list(range(n))\n",
    "    x = n // 2\n",
    "    start_time = time.time()\n",
    "    result = bin_search(a_list, x, 0, len(a_list) - 1)\n",
    "    end_time = time.time()\n",
    "    execution_time = end_time - start_time\n",
    "    return {\"n\": n, \"time\": execution_time}\n",
    "\n",
    "sizes = [10, 100, 1000, 10000]\n",
    "results = [measure_bin_search_time(size) for size in sizes]\n",
    "\n",
    "df = pd.DataFrame(results)\n",
    "\n",
    "print(df)"
   ]
  },
  {
   "cell_type": "markdown",
   "id": "fc46854d",
   "metadata": {},
   "source": [
    "<div style=\"font-size:16px;\">\n",
    "    <span style=\"font-weight:bold;\">Умова:</span> за результатами попередніх завдань побудувати графіки залежності часу виконання процедури пошуку від розміру масиву.\n",
    "</div>"
   ]
  },
  {
   "cell_type": "code",
   "execution_count": 4,
   "id": "f58530fb",
   "metadata": {},
   "outputs": [
    {
     "data": {
      "image/png": "[encoded data removed]",
      "text/plain": [
       "<Figure size 1000x600 with 1 Axes>"
      ]
     },
     "metadata": {},
     "output_type": "display_data"
    }
   ],
   "source": [
    "import time\n",
    "import pandas as pd\n",
    "import matplotlib.pyplot as plt\n",
    "import numpy as np\n",
    "\n",
    "def linear_search(arr, target):\n",
    "    for i in range(len(arr)):\n",
    "        if arr[i] == target:\n",
    "            return i\n",
    "    return -1\n",
    "\n",
    "def binary_search(arr, target):\n",
    "    low, high = 0, len(arr) - 1\n",
    "    while low <= high:\n",
    "        mid = (low + high) // 2\n",
    "        if arr[mid] == target:\n",
    "            return mid\n",
    "        elif arr[mid] < target:\n",
    "            low = mid + 1\n",
    "        else:\n",
    "            high = mid - 1\n",
    "    return -1\n",
    "\n",
    "def measure_time(search_func, arr, target):\n",
    "    start_time = time.time()\n",
    "    search_func(arr, target)\n",
    "    end_time = time.time()\n",
    "    return end_time - start_time\n",
    "\n",
    "def generate_data(n_values, search_func):\n",
    "    data = {\"n\": [], \"time\": []}\n",
    "    for n in n_values:\n",
    "        arr = np.arange(n)\n",
    "        target = np.random.randint(0, n)\n",
    "        elapsed_time = measure_time(search_func, arr, target)\n",
    "        data[\"n\"].append(n)\n",
    "        data[\"time\"].append(elapsed_time)\n",
    "    return pd.DataFrame(data)\n",
    "\n",
    "n_values = [10, 100, 500, 1000, 5000, 10000]\n",
    "\n",
    "linear_search_data = generate_data(n_values, linear_search)\n",
    "\n",
    "binary_search_data = generate_data(n_values, binary_search)\n",
    "\n",
    "plt.figure(figsize=(10, 6))\n",
    "plt.plot(linear_search_data[\"n\"], linear_search_data[\"time\"], label='Лінійний пошук')\n",
    "plt.plot(binary_search_data[\"n\"], binary_search_data[\"time\"], label='Бінарний пошук')\n",
    "plt.title('Порівняння алгоритмів пошуку')\n",
    "plt.xlabel('Розмір масиву (n)')\n",
    "plt.ylabel('Час (Секунд)')\n",
    "plt.legend()\n",
    "plt.show()\n"
   ]
  },
  {
   "cell_type": "markdown",
   "id": "f3eb7d03",
   "metadata": {},
   "source": [
    "<div style=\"font-size:16px;\">\n",
    "    <span style=\"font-weight:bold;\">Умова:</span> оцінити, який з двох алгоритмів є більш ефективним та в якому діапазоні розміру задачі. <br/><br/>\n",
    "Основна ідея бінарного пошуку полягає в тому, що на кожному кроці алгоритм зменшує свій діапазон пошуку вдвічі.<br/> На графіку видно, як змінюється час виконання зі збільшенням розміру масиву. <br/>\n",
    "    Зазвичай бінарний пошук буде ефективнішим, особливо при великих розмірах масивів, оскільки його асимптотична складність буде набагато кращою, ніж для лінійного пошуку. \n",
    "</div>"
   ]
  },
  {
   "cell_type": "markdown",
   "id": "eba073a0",
   "metadata": {},
   "source": [
    "<div style=\"font-weight:bold; font-size:18px;\">Відповідь на Контрольні запитання</div>"
   ]
  },
  {
   "cell_type": "markdown",
   "id": "224f9a13",
   "metadata": {},
   "source": [
    "<div style=\"font-size:16px;\">\n",
    "    1. Символ Ω використовується для вказівки \"не менше, ніж\" або \"осідає нижню межу\".<br/>\n",
    "    Якщо складність алгоритму обчислень асимптотично не менше g(n), то цю складність можна виразити за допомогою символу Ω(g(n)). <br/>\n",
    "    Цей символ дозволяє нам оцінювати \"найгірший\" випадок виконання алгоритму.\n",
    "</div>"
   ]
  },
  {
   "cell_type": "markdown",
   "id": "1ad4d83e",
   "metadata": {},
   "source": [
    "<div style=\"font-size:16px;\">\n",
    "    2. Функція часової складності має вигляд: F(N)=N^3+7N^2-14N.<br/>\n",
    "    Щоб знайти асимптотичну складність, вибираємо члени, які мають найвищий порядок зростання. В нашому випадку N^3.<br/>\n",
    "    Функція F(N) має асимптотичну складність, обмежену зверху функцією N^3 при N, що прямує до нескінченності.\n",
    "</div>"
   ]
  },
  {
   "cell_type": "markdown",
   "id": "1d3fac34",
   "metadata": {},
   "source": [
    "<div style=\"font-size:16px;\">\n",
    "    3. Функція часової складності має вигляд: F(N)=1.01^N+N^10.<br/>\n",
    "    Оскільки 1.01^N зростає експоненційно та швидше, ніж N^10, то експоненційний член домінуючий при великих значеннях N.<br/>\n",
    "    Отже, асимптотична складність функції буде в нотації O(1.01^N).\n",
    "</div>"
   ]
  },
  {
   "cell_type": "markdown",
   "id": "e6026579",
   "metadata": {},
   "source": [
    "<div style=\"font-size:16px;\">\n",
    "    4. Функція часової складності має вигляд: F(N)=N^1.3+10log2N.<br/>\n",
    "    Оскільки N^1.3 зростає швидше, ніж log2N, то поліноміальний член буде домінуючим при великих значеннях N.<br/>\n",
    "    Отже, асимптотична складність функції буде в нотації O(N^1.3).\n",
    "</div>"
   ]
  },
  {
   "cell_type": "markdown",
   "id": "7c1a115b",
   "metadata": {},
   "source": [
    "<div style=\"font-size:16px;\">\n",
    "    5. Ідея розпаралелювання полягає в тому, щоб розбити обчислення завдання на менші частини і виконувати їх одночасно за допомогою різних обчислюбвальних ресурсів.<br/>\n",
    "    Мета полягає в прискоренні виконання завдань та опимізації використання ресурсів. <br/>\n",
    "    Розпаралелювання можа використовувати до всього у нашому випадку, але це навпаки сповільнить роботу і робота буде вже не така ефективна.\n",
    "</div>"
   ]
  },
  {
   "cell_type": "markdown",
   "id": "5c2dfe90",
   "metadata": {},
   "source": [
    "<div style=\"font-size:16px;\">\n",
    "    6. Підвищення обчислювальної швидкості алгоритмів може бути досягнуте за допомогою подібних методів:<br/>\n",
    "    - оптимізація коду;<br/>\n",
    "    - паралельність;<br/>\n",
    "    - кешування;<br/>\n",
    "    - алгоритмічні підходи;<br/>\n",
    "    - оптимізація обчислень;<br/>\n",
    "    - апаратне забезпечення;<br/>\n",
    "    Найбільш ефективний метод залежить від посталеної задачі, характеристик системи та ресурсів. Також методи можна поєднувати для покращення результату.\n",
    "</div>"
   ]
  }
 ],
 "metadata": {
  "kernelspec": {
   "display_name": "Python 3 (ipykernel)",
   "language": "python",
   "name": "python3"
  },
  "language_info": {
   "codemirror_mode": {
    "name": "ipython",
    "version": 3
   },
   "file_extension": ".py",
   "mimetype": "text/x-python",
   "name": "python",
   "nbconvert_exporter": "python",
   "pygments_lexer": "ipython3",
   "version": "3.11.5"
  }
 },
 "nbformat": 4,
 "nbformat_minor": 5
}
