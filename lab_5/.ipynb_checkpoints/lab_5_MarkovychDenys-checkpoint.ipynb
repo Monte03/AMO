{
 "cells": [
  {
   "cell_type": "markdown",
   "id": "119a65aa",
   "metadata": {},
   "source": [
    "<div style=\"text-align:center; font-weight:bold; font-size:28px;\">Лабораторна робота №5</div>"
   ]
  },
  {
   "cell_type": "markdown",
   "id": "8eed2bba",
   "metadata": {},
   "source": [
    "**<span style=\"font-size:1.5em;\">Мета:</span>** *<span style=\"font-size:1.2em;\">Навчитися реалізувати структури даних стек та черга засобами Python.</span>*"
   ]
  },
  {
   "cell_type": "markdown",
   "id": "f2c17c7b",
   "metadata": {},
   "source": [
    "<img src=\"Images5/It's_me.png\" width=\"300\" height=\"200\" style=\"float: left; margin-right: 10px;\">"
   ]
  },
  {
   "cell_type": "markdown",
   "id": "429877dd",
   "metadata": {},
   "source": [
    "<div style=\"font-size:20px;\">Виконав: Маркович Денис\n",
    "група КІ-22-1</div>"
   ]
  },
  {
   "cell_type": "markdown",
   "id": "b2d15f9e",
   "metadata": {},
   "source": []
  },
  {
   "cell_type": "markdown",
   "id": "eba073a0",
   "metadata": {},
   "source": [
    "<div style=\"font-weight:bold; font-size:18px;\">Відповідь на Контрольні запитання</div>"
   ]
  },
  {
   "cell_type": "markdown",
   "id": "224f9a13",
   "metadata": {},
   "source": [
    "<div style=\"font-size:16px;\">\n",
    "    1. Символ Ω використовується для вказівки \"не менше, ніж\" або \"осідає нижню межу\".<br/>\n",
    "    Якщо складність алгоритму обчислень асимптотично не менше g(n), то цю складність можна виразити за допомогою символу Ω(g(n)). <br/>\n",
    "    Цей символ дозволяє нам оцінювати \"найгірший\" випадок виконання алгоритму.\n",
    "</div>"
   ]
  }
 ],
 "metadata": {
  "kernelspec": {
   "display_name": "Python 3 (ipykernel)",
   "language": "python",
   "name": "python3"
  },
  "language_info": {
   "codemirror_mode": {
    "name": "ipython",
    "version": 3
   },
   "file_extension": ".py",
   "mimetype": "text/x-python",
   "name": "python",
   "nbconvert_exporter": "python",
   "pygments_lexer": "ipython3",
   "version": "3.11.5"
  }
 },
 "nbformat": 4,
 "nbformat_minor": 5
}
