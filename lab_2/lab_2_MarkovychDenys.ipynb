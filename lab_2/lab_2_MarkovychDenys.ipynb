{
 "cells": [
  {
   "cell_type": "markdown",
   "id": "cd83e767",
   "metadata": {},
   "source": [
    "<div style=\"text-align:center; font-weight:bold; font-size:28px;\">Лабораторна робота №2</div>"
   ]
  },
  {
   "cell_type": "markdown",
   "id": "66f3650a",
   "metadata": {},
   "source": [
    "**<span style=\"font-size:1.5em;\">Мета:</span>** *<span style=\"font-size:1.2em;\">Освоїти аналіз складності алгоритмів як технологію на прикладі алгоритмів сортування методами вставляння та бульбашки</span>*\n"
   ]
  },
  {
   "cell_type": "markdown",
   "id": "12bc58d8",
   "metadata": {},
   "source": [
    "<img src=\"Images2/It's_me.png\" width=\"300\" height=\"200\" style=\"float: left; margin-right: 10px;\">"
   ]
  },
  {
   "cell_type": "markdown",
   "id": "5400ac85",
   "metadata": {},
   "source": [
    "<div style=\"font-size:20px;\">Виконав: Маркович Денис\n",
    "група КІ-22-1</div>"
   ]
  },
  {
   "cell_type": "markdown",
   "id": "d28b0ddb",
   "metadata": {},
   "source": [
    "<div style=\"font-size:16px;\"> 3. Обидва методи не ефективні для великої кількості елементів. Зокрема вони обидва мають квадратичну складність O(n^2) у найгіршому та середньому випадках.</div>"
   ]
  },
  {
   "cell_type": "markdown",
   "id": "a258b959",
   "metadata": {},
   "source": [
    "<div style=\"font-size:16px;\">4. Реалізація методів сортування:</div>"
   ]
  },
  {
   "cell_type": "markdown",
   "id": "5929610b",
   "metadata": {},
   "source": [
    "<div style=\"font-size:16px;\">1) Метод сортування вставкою:</div>"
   ]
  },
  {
   "cell_type": "code",
   "execution_count": 1,
   "id": "05b2c440",
   "metadata": {},
   "outputs": [
    {
     "name": "stdout",
     "output_type": "stream",
     "text": [
      "Відсортований масив:  [1, 2, 3, 5, 7, 8, 9]\n",
      "--- 0.0005309581756591797 seconds ---\n"
     ]
    }
   ],
   "source": [
    "import time\n",
    "\n",
    "start_time = time.time()\n",
    "\n",
    "def insertion_sorting(arr):\n",
    "    for i in range(1, len(arr)):\n",
    "        key = arr[i]\n",
    "        n = i - 1\n",
    "        while n >= 0 and key < arr[n]:\n",
    "            arr[n + 1] = arr[n]\n",
    "            n -= 1\n",
    "        arr[n + 1] = key\n",
    "\n",
    "my_list = [3, 7, 1, 9, 5, 2, 8]\n",
    "insertion_sorting(my_list)\n",
    "print(\"Відсортований масив: \", my_list)\n",
    "print(\"--- %s seconds ---\" % (time.time() - start_time))"
   ]
  },
  {
   "cell_type": "markdown",
   "id": "14560532",
   "metadata": {},
   "source": [
    "<div style=\"font-size:16px;\">2) Метод сортування бульбашкою:</div>"
   ]
  },
  {
   "cell_type": "code",
   "execution_count": 18,
   "id": "566c5798",
   "metadata": {},
   "outputs": [
    {
     "name": "stdout",
     "output_type": "stream",
     "text": [
      "Відсортований масив:  [1, 2, 3, 5, 7, 8, 9]\n",
      "--- 0.0025811195373535156 seconds ---\n"
     ]
    }
   ],
   "source": [
    "import time\n",
    "\n",
    "start_time = time.time()\n",
    "\n",
    "def bubble_sort(arr):\n",
    "    n = len(arr)\n",
    "\n",
    "    for i in range(n):\n",
    "        for x in range(0, n - i - 1):\n",
    "            if arr[x] > arr[x + 1]:\n",
    "                arr[x], arr[x + 1] = arr[x + 1], arr[x]\n",
    "\n",
    "my_list = [3, 7, 1, 9, 5, 2, 8]\n",
    "bubble_sort(my_list)\n",
    "print(\"Відсортований масив: \", my_list)\n",
    "print(\"--- %s seconds ---\" % (time.time() - start_time))"
   ]
  },
  {
   "cell_type": "markdown",
   "id": "d15000b6",
   "metadata": {},
   "source": [
    "<div style=\"font-size:16px;\">5. Реалізація поставленої задачі</div>"
   ]
  },
  {
   "cell_type": "code",
   "execution_count": 19,
   "id": "eebb9345",
   "metadata": {},
   "outputs": [
    {
     "name": "stdout",
     "output_type": "stream",
     "text": [
      "\n",
      "Масив на (5) елементів\n",
      "Сортування вставкою: 0.000003 секунди середнього часу\n",
      "Сортування бульбашкою: 0.000005 секунди середнього часу\n",
      "\n",
      "Масив на (10) елементів\n",
      "Сортування вставкою: 0.000009 секунди середнього часу\n",
      "Сортування бульбашкою: 0.000015 секунди середнього часу\n",
      "\n",
      "Масив на (50) елементів\n",
      "Сортування вставкою: 0.000087 секунди середнього часу\n",
      "Сортування бульбашкою: 0.000199 секунди середнього часу\n",
      "\n",
      "Масив на (100) елементів\n",
      "Сортування вставкою: 0.000407 секунди середнього часу\n",
      "Сортування бульбашкою: 0.000800 секунди середнього часу\n",
      "\n",
      "Масив на (500) елементів\n",
      "Сортування вставкою: 0.004409 секунди середнього часу\n",
      "Сортування бульбашкою: 0.009637 секунди середнього часу\n",
      "\n",
      "Масив на (1000) елементів\n",
      "Сортування вставкою: 0.009223 секунди середнього часу\n",
      "Сортування бульбашкою: 0.038516 секунди середнього часу\n",
      "\n",
      "Масив на (2000) елементів\n",
      "Сортування вставкою: 0.038793 секунди середнього часу\n",
      "Сортування бульбашкою: 0.152541 секунди середнього часу\n",
      "\n",
      "Масив на (3000) елементів\n",
      "Сортування вставкою: 0.086800 секунди середнього часу\n",
      "Сортування бульбашкою: 0.346282 секунди середнього часу\n",
      "\n",
      "Масив на (4000) елементів\n",
      "Сортування вставкою: 0.152640 секунди середнього часу\n",
      "Сортування бульбашкою: 0.615685 секунди середнього часу\n",
      "\n",
      "Масив на (5000) елементів\n",
      "Сортування вставкою: 0.241439 секунди середнього часу\n",
      "Сортування бульбашкою: 0.959701 секунди середнього часу\n",
      "\n",
      "Масив на (10000) елементів\n",
      "Сортування вставкою: 1.003258 секунди середнього часу\n",
      "Сортування бульбашкою: 3.877733 секунди середнього часу\n",
      "\n",
      "Масив на (20000) елементів\n",
      "Сортування вставкою: 3.941902 секунди середнього часу\n",
      "Сортування бульбашкою: 15.461097 секунди середнього часу\n",
      "\n",
      "Масив на (50000) елементів\n",
      "Сортування вставкою: 24.516069 секунди середнього часу\n",
      "Сортування бульбашкою: 97.785905 секунди середнього часу\n",
      "\n",
      "Масив на (100000) елементів\n",
      "Сортування вставкою: 98.439276 секунди середнього часу\n",
      "Сортування бульбашкою: 392.849192 секунди середнього часу\n"
     ]
    },
    {
     "data": {
      "image/png": "[encoded data removed]",
      "text/plain": [
       "<Figure size 1000x600 with 1 Axes>"
      ]
     },
     "metadata": {},
     "output_type": "display_data"
    }
   ],
   "source": [
    "import timeit\n",
    "import random\n",
    "import matplotlib.pyplot as plt\n",
    "\n",
    "sizes = [5, 10, 50, 100, 500, 1000, 2000, 3000, 4000, 5000, 10000, 20000, 50000, 100000]\n",
    "num_trials = 10  # Кількість прогонів для кожного розміру масиву\n",
    "\n",
    "def bubble_sort(arr):\n",
    "    n = len(arr)\n",
    "    for i in range(n):\n",
    "        for x in range(0, n - i - 1):\n",
    "            if arr[x] > arr[x + 1]:\n",
    "                arr[x], arr[x + 1] = arr[x + 1], arr[x]\n",
    "    return arr\n",
    "\n",
    "def insertion_sorting(arr):\n",
    "    for i in range(1, len(arr)):\n",
    "        key = arr[i]\n",
    "        n = i - 1\n",
    "        while n >= 0 and key < arr[n]:\n",
    "            arr[n + 1] = arr[n]\n",
    "            n -= 1\n",
    "        arr[n + 1] = key\n",
    "    return arr\n",
    "\n",
    "insertion_times = []\n",
    "bubble_times = []\n",
    "\n",
    "for size in sizes:\n",
    "    array = random.sample(range(1, size + 1), size)\n",
    "    \n",
    "    print(f\"\\nМасив на ({size}) елементів\")\n",
    "\n",
    "    insertion_sorted_array = insertion_sorting(array.copy())\n",
    "    insertion_time = timeit.timeit(stmt=lambda: insertion_sorting(array.copy()), number=num_trials)\n",
    "    insertion_avg_time = insertion_time / num_trials\n",
    "    insertion_times.append(insertion_avg_time)\n",
    "    print(f\"Сортування вставкою: {insertion_avg_time:.6f} секунди середнього часу\")\n",
    "\n",
    "\n",
    "    bubble_sorted_array = bubble_sort(array.copy())\n",
    "    bubble_time = timeit.timeit(stmt=lambda: bubble_sort(array.copy()), number=num_trials)\n",
    "    bubble_avg_time = bubble_time / num_trials\n",
    "    bubble_times.append(bubble_avg_time)\n",
    "    print(f\"Сортування бульбашкою: {bubble_avg_time:.6f} секунди середнього часу\")\n",
    "\n",
    "\n",
    "plt.figure(figsize=(10, 6))\n",
    "plt.plot(sizes, insertion_times, label='Сортування вставкою')\n",
    "plt.plot(sizes, bubble_times, label='Сортування бульбашкою')\n",
    "plt.xlabel('Розмір масиву')\n",
    "plt.ylabel('Середній час виконання (секунди)')\n",
    "plt.title('Час виконання сортувань')\n",
    "plt.legend()\n",
    "plt.show()\n"
   ]
  },
  {
   "cell_type": "markdown",
   "id": "dc07a8f4",
   "metadata": {},
   "source": [
    "<div style=\"font-weight:bold; font-size:18px;\">Відповідь на Контрольні запитання</div>"
   ]
  },
  {
   "cell_type": "markdown",
   "id": "4c2c4e53",
   "metadata": {},
   "source": [
    "<div style=\"font-size:16px;\">\n",
    "    1) O - нотація вказує на межу часової або просторової складності алгоритму. <br/>\n",
    "    &nbsp;&nbsp;&nbsp;&nbsp;Якщо функція f(n)=O(g(n)), то f(n) обмежується зверху константою, помноженою на g(n). <br/>\n",
    "    &nbsp;&nbsp;&nbsp;&nbsp;Ω - нотація вказує на нижню межу часової або просторової складності алгоритму. <br/>\n",
    "    &nbsp;&nbsp;&nbsp;&nbsp;Якщо функція f(n)=Ω(g(n)), то f(n) обмежується знизу константою, помноженою на g(n).\n",
    "</div>"
   ]
  },
  {
   "cell_type": "markdown",
   "id": "0e8c70c8",
   "metadata": {},
   "source": [
    "<div style=\"font-size:16px;\">\n",
    "    2) Сортування методом вставки має оптимальну часову складність вже у випадку, коли масив відсортований. <br/>\n",
    "    &nbsp;&nbsp;&nbsp;&nbsp;Такий випадок відомий як \"найсприятливіша умова\" для алгоритму сортування методом вставки. <br/>\n",
    "    &nbsp;&nbsp;&nbsp;&nbsp;Оптимальна часова складність у цьому випадку дорівнює O(n), де \"n\" - кількість елементів у масиві.\n",
    "</div>"
   ]
  },
  {
   "cell_type": "markdown",
   "id": "773f1839",
   "metadata": {},
   "source": [
    "<div style=\"font-size:16px;\">\n",
    "    3) Ефективний алгоритм - основна ідея алгоритму полягає в тому щоб досягти максимально можливого результату при мінімальній витраті ресурсів. <br/>\n",
    "    &nbsp;&nbsp;&nbsp;&nbsp; Основні критерії ефективності алгоритму включають: <br/>\n",
    "    &nbsp;&nbsp;&nbsp;&nbsp;&nbsp; - Часова складність <br/>\n",
    "    &nbsp;&nbsp;&nbsp;&nbsp;&nbsp; - Просторова складність <br/>\n",
    "    &nbsp;&nbsp;&nbsp;&nbsp;&nbsp; - Робота в найгіршому випадку <br/>\n",
    "    &nbsp;&nbsp;&nbsp;&nbsp;&nbsp; - Спрощення та оптимізація коду <br/>\n",
    "    &nbsp;&nbsp;&nbsp;&nbsp;&nbsp; - Маштабованість <br/>\n",
    "</div>"
   ]
  },
  {
   "cell_type": "markdown",
   "id": "5f6a2d34",
   "metadata": {},
   "source": [
    "<div style=\"font-size:16px;\">\n",
    "    4) Поняття головного параметру задачі вказує на розмір вхідних даних, які обробляє алгоритм. Він визначає розмірність задачі та впливає на час чи ресурси, які потрібні для вирішення цієї задачі.  <br/>\n",
    "    &nbsp;&nbsp;&nbsp;&nbsp; Функція часової складності має вигляд: $F(N)=N^3+7N^2-14N$. <br/>\n",
    "    &nbsp;&nbsp;&nbsp;&nbsp; Щоб виразити асимптотичну складність використовуємо \"O\", домінантом є $N^3$, <br/>\n",
    "    &nbsp;&nbsp;&nbsp;&nbsp; звідси можемо надати відповідь, що асимптотична складність буде записана, як $O(N^3)$ \n",
    "</div>"
   ]
  }
 ],
 "metadata": {
  "kernelspec": {
   "display_name": "Python 3 (ipykernel)",
   "language": "python",
   "name": "python3"
  },
  "language_info": {
   "codemirror_mode": {
    "name": "ipython",
    "version": 3
   },
   "file_extension": ".py",
   "mimetype": "text/x-python",
   "name": "python",
   "nbconvert_exporter": "python",
   "pygments_lexer": "ipython3",
   "version": "3.11.5"
  }
 },
 "nbformat": 4,
 "nbformat_minor": 5
}
