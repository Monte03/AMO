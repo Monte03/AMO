{
 "cells": [
  {
   "cell_type": "markdown",
   "id": "119a65aa",
   "metadata": {},
   "source": [
    "<div style=\"text-align:center; font-weight:bold; font-size:28px;\">Лабораторна робота №6</div>"
   ]
  },
  {
   "cell_type": "markdown",
   "id": "8eed2bba",
   "metadata": {},
   "source": [
    "**<span style=\"font-size:1.5em;\">Мета:</span>** *<span style=\"font-size:1.2em;\">Засвоїти основні функції та алгоритми .</span>*"
   ]
  },
  {
   "cell_type": "markdown",
   "id": "f2c17c7b",
   "metadata": {},
   "source": [
    "<img src=\"Images6/It's_me.png\" width=\"300\" height=\"200\" style=\"float: left; margin-right: 10px;\">"
   ]
  },
  {
   "cell_type": "markdown",
   "id": "429877dd",
   "metadata": {},
   "source": [
    "<div style=\"font-size:20px;\">Виконав: Маркович Денис\n",
    "група КІ-22-1</div>"
   ]
  },
  {
   "cell_type": "markdown",
   "id": "6d362710",
   "metadata": {},
   "source": [
    "<div style=\"font-size:16px;\">\n",
    "    <span style=\"font-weight:bold;\">Умова:</span> Написати функцію print_n(), що друкує елементи черги з його початку до номеру n включно.\n",
    "</div>"
   ]
  },
  {
   "cell_type": "markdown",
   "id": "eba073a0",
   "metadata": {},
   "source": [
    "<div style=\"font-weight:bold; font-size:18px;\">Відповідь на Контрольні запитання</div>"
   ]
  },
  {
   "cell_type": "markdown",
   "id": "224f9a13",
   "metadata": {},
   "source": [
    "<div style=\"font-size:16px;\">\n",
    "    <b>1.</b> Ідея розпаралелювання обчислень полягає в тому, щоб розділити завдання на менші частини та виконувати їх паралельно. Це використовується для підвищення продуктивності, швидшого розв'язання складних завдань та зменшення часу виконання завдань за рахунок використання багатьох обчислювальних ресурсів одночасно.\n",
    "</div>"
   ]
  }
 ],
 "metadata": {
  "kernelspec": {
   "display_name": "Python 3 (ipykernel)",
   "language": "python",
   "name": "python3"
  },
  "language_info": {
   "codemirror_mode": {
    "name": "ipython",
    "version": 3
   },
   "file_extension": ".py",
   "mimetype": "text/x-python",
   "name": "python",
   "nbconvert_exporter": "python",
   "pygments_lexer": "ipython3",
   "version": "3.11.5"
  }
 },
 "nbformat": 4,
 "nbformat_minor": 5
}
