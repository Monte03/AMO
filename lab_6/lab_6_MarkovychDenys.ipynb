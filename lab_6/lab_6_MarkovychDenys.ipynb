{
 "cells": [
  {
   "cell_type": "markdown",
   "id": "119a65aa",
   "metadata": {},
   "source": [
    "<div style=\"text-align:center; font-weight:bold; font-size:28px;\">Лабораторна робота №6</div>"
   ]
  },
  {
   "cell_type": "markdown",
   "id": "8eed2bba",
   "metadata": {},
   "source": [
    "**<span style=\"font-size:1.5em;\">Мета:</span>** *<span style=\"font-size:1.2em;\">Засвоїти основні функції та алгоритми роботи з деревами та купою засобами Python.</span>*"
   ]
  },
  {
   "cell_type": "markdown",
   "id": "f2c17c7b",
   "metadata": {},
   "source": [
    "<img src=\"Images6/It's_me.png\" width=\"300\" height=\"200\" style=\"float: left; margin-right: 10px;\">"
   ]
  },
  {
   "cell_type": "markdown",
   "id": "429877dd",
   "metadata": {},
   "source": [
    "<div style=\"font-size:20px;\">Виконав: Маркович Денис\n",
    "група КІ-22-1</div>"
   ]
  },
  {
   "cell_type": "markdown",
   "id": "6d362710",
   "metadata": {},
   "source": [
    "<div style=\"font-size:16px;\">\n",
    "    <span style=\"font-weight:bold;\">Умова:</span> Створити бінарне дерево.\n",
    "</div>"
   ]
  },
  {
   "cell_type": "code",
   "execution_count": 1,
   "id": "96130057",
   "metadata": {},
   "outputs": [
    {
     "name": "stdout",
     "output_type": "stream",
     "text": [
      "Inorder Traversal: [2, 3, 4, 5, 6, 7, 8]\n"
     ]
    }
   ],
   "source": [
    "class Node:\n",
    "    def __init__(self, key):\n",
    "        self.key = key\n",
    "        self.left = None\n",
    "        self.right = None\n",
    "\n",
    "class BinaryTree:\n",
    "    def __init__(self):\n",
    "        self.root = None\n",
    "\n",
    "    def insert(self, key):\n",
    "        self.root = self._insert(self.root, key)\n",
    "\n",
    "    def _insert(self, root, key):\n",
    "        if root is None:\n",
    "            return Node(key)\n",
    "        else:\n",
    "            if key < root.key:\n",
    "                root.left = self._insert(root.left, key)\n",
    "            else:\n",
    "                root.right = self._insert(root.right, key)\n",
    "        return root\n",
    "\n",
    "    def inorder_traversal(self):\n",
    "        result = []\n",
    "        self._inorder_traversal(self.root, result)\n",
    "        return result\n",
    "\n",
    "    def _inorder_traversal(self, root, result):\n",
    "        if root:\n",
    "            self._inorder_traversal(root.left, result)\n",
    "            result.append(root.key)\n",
    "            self._inorder_traversal(root.right, result)\n",
    "\n",
    "binary_tree = BinaryTree()\n",
    "\n",
    "keys = [5, 3, 7, 2, 4, 6, 8]\n",
    "for key in keys:\n",
    "    binary_tree.insert(key)\n",
    "\n",
    "inorder_result = binary_tree.inorder_traversal()\n",
    "\n",
    "print(\"Inorder Traversal:\", inorder_result)"
   ]
  },
  {
   "cell_type": "markdown",
   "id": "c9a0ac5c",
   "metadata": {},
   "source": [
    "<div style=\"font-size:16px;\">\n",
    "    <span style=\"font-weight:bold;\">Умова:</span> Написати процедуру видалення заданої гілки дерева..\n",
    "</div>"
   ]
  },
  {
   "cell_type": "code",
   "execution_count": 6,
   "id": "8d3cca02",
   "metadata": {},
   "outputs": [
    {
     "name": "stdout",
     "output_type": "stream",
     "text": [
      "До видалення: [2, 3, 4, 5, 6, 7, 8]\n",
      "Після видалення: [5, 6, 7, 8]\n"
     ]
    }
   ],
   "source": [
    "class Node:\n",
    "    def __init__(self, key):\n",
    "        self.key = key\n",
    "        self.left = None\n",
    "        self.right = None\n",
    "\n",
    "class BinaryTree:\n",
    "    def __init__(self):\n",
    "        self.root = None\n",
    "\n",
    "    def insert(self, key):\n",
    "        self.root = self._insert(self.root, key)\n",
    "\n",
    "    def _insert(self, root, key):\n",
    "        if root is None:\n",
    "            return Node(key)\n",
    "        else:\n",
    "            if key < root.key:\n",
    "                root.left = self._insert(root.left, key)\n",
    "            else:\n",
    "                root.right = self._insert(root.right, key)\n",
    "        return root\n",
    "\n",
    "    def inorder_traversal(self):\n",
    "        result = []\n",
    "        self._inorder_traversal(self.root, result)\n",
    "        return result\n",
    "\n",
    "    def _inorder_traversal(self, root, result):\n",
    "        if root:\n",
    "            self._inorder_traversal(root.left, result)\n",
    "            result.append(root.key)\n",
    "            self._inorder_traversal(root.right, result)\n",
    "\n",
    "    def delete_subtree(self, key):\n",
    "        self.root = self._delete_subtree(self.root, key)\n",
    "\n",
    "    def _delete_subtree(self, root, key):\n",
    "        if root is None:\n",
    "            return None\n",
    "\n",
    "        if key < root.key:\n",
    "            root.left = self._delete_subtree(root.left, key)\n",
    "        elif key > root.key:\n",
    "            root.right = self._delete_subtree(root.right, key)\n",
    "        else:\n",
    "            # Знайдено вузол для видалення\n",
    "            root = None\n",
    "\n",
    "        return root\n",
    "\n",
    "binary_tree = BinaryTree()\n",
    "\n",
    "keys = [5, 3, 7, 2, 4, 6, 8]\n",
    "for key in keys:\n",
    "    binary_tree.insert(key)\n",
    "\n",
    "# до видалення\n",
    "print(\"До видалення:\", binary_tree.inorder_traversal())\n",
    "\n",
    "# Видалення гілки (піддерева) з коренем 3\n",
    "binary_tree.delete_subtree(3)\n",
    "\n",
    "# після видалення\n",
    "print(\"Після видалення:\", binary_tree.inorder_traversal())\n"
   ]
  },
  {
   "cell_type": "markdown",
   "id": "f681a743",
   "metadata": {},
   "source": [
    "<div style=\"font-size:16px;\">\n",
    "    <span style=\"font-weight:bold;\">Умова:</span> Оцінити асисптотичну складність (в середньому і в найгіршому випадку) процедур <b>search</b>, <b>insert</b> і <b>delete</b> роботи з деревом.\n",
    "</div>"
   ]
  },
  {
   "cell_type": "markdown",
   "id": "68f105f2",
   "metadata": {},
   "source": [
    "<div style=\"font-size:16px;\">\n",
    "    <b>Search</b><br/>\n",
    "    - Середня складність: O(log n) - у середньому випадку, де n - кількість вузлів у дереві.<br/>\n",
    "    За умови балансованого дерева, пошук відбувається в середньому за logарифмічну кількість операцій.<br/>\n",
    "    - Найгірша складність: O(n) - у найгіршому випадку, коли дерево стає несбалансованим, і пошук працює аналогічно лінійному пошуку в несортованому списку.<br/><br/>\n",
    "    <b>Insert</b><br/>\n",
    "    - Середня складність: O(log n) - у середньому випадку, при умові балансованого дерева.<br/>\n",
    "    Вставка зазвичай вимагає logарифмічну кількість операцій для знаходження правильного місця вставки.<br/>\n",
    "    - Найгірша складність: O(n) - у найгіршому випадку, якщо дерево стає несбалансованим, і всі елементи додаються або видаляються в порядку, що призводить до лінійного дерева.<br/><br/>\n",
    "    <b>Delete</b><br/>\n",
    "    - Середня складність: O(log n) - у середньому випадку, якщо дерево залишається балансованим.<br/>\n",
    "    Видалення вимагає logарифмічну кількість операцій.<br/>\n",
    "    - Найгірша складність: O(n) - у найгіршому випадку, коли дерево стає несбалансованим, і всі елементи видаляються в порядку, що призводить до лінійного дерева.<br/><br/>\n",
    "</div>"
   ]
  },
  {
   "cell_type": "markdown",
   "id": "990c0fe2",
   "metadata": {},
   "source": [
    "<div style=\"font-size:16px;\">\n",
    "    <span style=\"font-weight:bold;\">Умова:</span> Написати процедуру генерації купи з будь-якого рандомного масива.\n",
    "</div>"
   ]
  },
  {
   "cell_type": "code",
   "execution_count": 9,
   "id": "bb702035",
   "metadata": {},
   "outputs": [
    {
     "name": "stdout",
     "output_type": "stream",
     "text": [
      "Випадковий масив: [75, 78, 51, 1, 17, 58, 37, 57, 20, 10]\n",
      "Купа: [1, 10, 37, 20, 17, 58, 51, 57, 78, 75]\n"
     ]
    }
   ],
   "source": [
    "import heapq\n",
    "import random\n",
    "\n",
    "def generate_heap(random_array):\n",
    "    # Використовуємо бібліотечну функцію heapify для перетворення масиву в купу\n",
    "    heapq.heapify(random_array)\n",
    "    return random_array\n",
    "\n",
    "\n",
    "# Генерація випадкового масиву чисел\n",
    "random_array = [random.randint(1, 100) for _ in range(10)]\n",
    "print(\"Випадковий масив:\", random_array)\n",
    "\n",
    "# Генерація купи з випадкового масиву\n",
    "heap = generate_heap(random_array)\n",
    "print(\"Купа:\", heap)"
   ]
  },
  {
   "cell_type": "markdown",
   "id": "ef643a54",
   "metadata": {},
   "source": [
    "<div style=\"font-size:16px;\">\n",
    "    <span style=\"font-weight:bold;\">Умова:</span> Додати до нього елемент, який дорівнює вашому порядковому номеру у списку групи.\n",
    "</div>"
   ]
  },
  {
   "cell_type": "code",
   "execution_count": 10,
   "id": "6e416eb8",
   "metadata": {},
   "outputs": [
    {
     "name": "stdout",
     "output_type": "stream",
     "text": [
      "Випадковий масив: [31, 38, 93, 53, 13, 54, 62, 75, 61, 27]\n",
      "Купа перед додаванням: [13, 27, 54, 53, 31, 93, 62, 75, 61, 38]\n",
      "Купа після додавання елементу 15: [13, 15, 54, 53, 27, 93, 62, 75, 61, 38, 31]\n"
     ]
    }
   ],
   "source": [
    "import heapq\n",
    "import random\n",
    "\n",
    "def generate_heap(random_array):\n",
    "    heapq.heapify(random_array)\n",
    "    return random_array\n",
    "\n",
    "random_array = [random.randint(1, 100) for _ in range(10)]\n",
    "print(\"Випадковий масив:\", random_array)\n",
    "\n",
    "heap = generate_heap(random_array)\n",
    "print(\"Купа перед додаванням:\", heap)\n",
    "\n",
    "# Додавання елементу 15 до купи\n",
    "heapq.heappush(heap, 15)\n",
    "print(\"Купа після додавання елементу 15:\", heap)"
   ]
  },
  {
   "cell_type": "markdown",
   "id": "d9424487",
   "metadata": {},
   "source": [
    "<div style=\"font-size:16px;\">\n",
    "    <span style=\"font-weight:bold;\">Умова:</span> Вилучити максимальний елемент з купи.\n",
    "</div>"
   ]
  },
  {
   "cell_type": "code",
   "execution_count": 11,
   "id": "b6dd482a",
   "metadata": {},
   "outputs": [
    {
     "name": "stdout",
     "output_type": "stream",
     "text": [
      "Випадковий масив: [59, 11, 86, 15, 26, 81, 53, 11, 65, 25]\n",
      "Купа перед видаленням максимального елементу: [11, 11, 53, 15, 25, 81, 86, 59, 65, 26]\n",
      "Максимальний елемент: 11\n",
      "Купа після видалення максимального елементу: [11, 15, 53, 26, 25, 81, 86, 59, 65]\n"
     ]
    }
   ],
   "source": [
    "import heapq\n",
    "import random\n",
    "\n",
    "def generate_heap(random_array):\n",
    "    heapq.heapify(random_array)\n",
    "    return random_array\n",
    "\n",
    "random_array = [random.randint(1, 100) for _ in range(10)]\n",
    "print(\"Випадковий масив:\", random_array)\n",
    "\n",
    "heap = generate_heap(random_array)\n",
    "print(\"Купа перед видаленням максимального елементу:\", heap)\n",
    "\n",
    "# Видалення максимального елементу з купи\n",
    "max_element = heapq.heappop(heap)\n",
    "print(\"Максимальний елемент:\", max_element)\n",
    "print(\"Купа після видалення максимального елементу:\", heap)"
   ]
  },
  {
   "cell_type": "markdown",
   "id": "c4fc1f80",
   "metadata": {},
   "source": [
    "<div style=\"font-size:16px;\">\n",
    "    <span style=\"font-weight:bold;\">Умова:</span> Оцінити асисптотичну складність (в середньому і в найгіршому випадку) процедур <b>search</b>, <b>insert</b> і <b>delete</b> роботи з купою.\n",
    "</div>"
   ]
  },
  {
   "cell_type": "markdown",
   "id": "08f03e4e",
   "metadata": {},
   "source": [
    "<div style=\"font-size:16px;\">\n",
    "    <b>Search</b><br/>\n",
    "    - Середня складність: O(n) - у середньому випадку. Пошук в купі не забезпечує переваги в порівнянні зі списком для знаходження конкретного елемента, і це може вимагати перегляду всього масиву.<br/>\n",
    "    - Найгірша складність: O(n) - у найгіршому випадку, коли елемент не знаходиться в купі і його доведеться переглядати.<br/><br/>\n",
    "    <b>Insert</b><br/>\n",
    "    - Середня складність: O(1) - у середньому випадку. Вставка елементу у максимальну купу зазвичай відбувається швидко, оскільки новий елемент просто додається до кінця масиву, і після цього може бути відновлено властивості купи.<br/>\n",
    "    - Найгірша складність: O(log n) - у найгіршому випадку, коли треба відновити властивості купи після додавання нового елементу.<br/><br/>\n",
    "    <b>Delete</b><br/>\n",
    "    - Середня складність: O(log n) - у середньому випадку. Видалення максимального елементу зазвичай вимагає перестановки елементів та відновлення властивостей купи.<br/>\n",
    "    - Найгірша складність: O(log n) - у найгіршому випадку, коли потрібно відновити властивості купи після видалення максимального елементу.<br/><br/>\n",
    "</div>"
   ]
  },
  {
   "cell_type": "markdown",
   "id": "eba073a0",
   "metadata": {},
   "source": [
    "<div style=\"font-weight:bold; font-size:18px;\">Відповідь на Контрольні запитання</div>"
   ]
  },
  {
   "cell_type": "markdown",
   "id": "224f9a13",
   "metadata": {},
   "source": [
    "<div style=\"font-size:16px;\">\n",
    "    <b>1. Бінарне дерево:</b><br/>\n",
    "    - Кожен вузол може мати не більше двох дорічних вузлів.<br/>\n",
    "    - Елементи розташовані без врахування порядку.<br/><br/>\n",
    "    <b>Бінарне дерево пошуку:</b><br/>\n",
    "    - Кожен вузол може мати не більше двох дочірніх вузлів.<br/>\n",
    "    - Для кожного вузла ліве піддверево містить елементи, менші за значення поточного вузла, а у правому навпаки більші.<br/>\n",
    "    - Це дозволяє швидше виконувати операції пошуку, додавання і видалення елементів порівняно з простим бінарним деревом. \n",
    "</div>"
   ]
  },
  {
   "cell_type": "markdown",
   "id": "946b71be",
   "metadata": {},
   "source": [
    "<div style=\"font-size:16px;\">\n",
    "    <b>2. Бінарне дерево:</b><br/>\n",
    "    - Кожен вузол може мати не більше двох дорічних вузлів.<br/>\n",
    "    - В основному використовується для розрізнення та організації даних у вигляді ієрархії.<br/>\n",
    "        Зазвичай використовується для швидкого пошуку, вставки та видалення елементів у структурі.<br/><br/>\n",
    "    <b>Бінарна купа:</b><br/>\n",
    "    - Кожен вузол має значення, що задовольняє певній властивості.<br/>\n",
    "    - икористовується для здійснення швидкого доступу до максимального або мінімального елементу без необхідності сортування всієї структури.<br/>\n",
    "        Також використовується у побудові ефективних алгоритмів сортування.   \n",
    "</div>"
   ]
  }
 ],
 "metadata": {
  "kernelspec": {
   "display_name": "Python 3 (ipykernel)",
   "language": "python",
   "name": "python3"
  },
  "language_info": {
   "codemirror_mode": {
    "name": "ipython",
    "version": 3
   },
   "file_extension": ".py",
   "mimetype": "text/x-python",
   "name": "python",
   "nbconvert_exporter": "python",
   "pygments_lexer": "ipython3",
   "version": "3.11.5"
  }
 },
 "nbformat": 4,
 "nbformat_minor": 5
}
